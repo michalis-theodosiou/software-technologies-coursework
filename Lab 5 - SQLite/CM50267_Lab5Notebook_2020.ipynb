{
 "cells": [
  {
   "cell_type": "markdown",
   "metadata": {},
   "source": [
    "# CM50267 Software Technologies for Data Science\n",
    "### Lab 5 – Databases\n",
    "\n",
    "In this lab you will develop an SQL database for the student assessment recording example we have used in the lectures. The lab is designed to be implemented using sqlite3 via python.\n"
   ]
  },
  {
   "cell_type": "code",
   "execution_count": 1,
   "metadata": {},
   "outputs": [],
   "source": [
    "# This code wraps up the database access in a single function.\n",
    "import sqlite3\n",
    "\n",
    "# access_database requires the name of a sqlite3 database file and the query.\n",
    "# It does not return the result of the query.\n",
    "def access_database(dbfile, query):\n",
    "    connect = sqlite3.connect(dbfile)\n",
    "    cursor = connect.cursor()\n",
    "    cursor.execute(query)\n",
    "    connect.commit()\n",
    "    connect.close()\n",
    "\n",
    "# access_database requires the name of a sqlite3 database file and the query.\n",
    "# It returns the result of the query\n",
    "def access_database_with_result(dbfile, query):\n",
    "    connect = sqlite3.connect(dbfile)\n",
    "    cursor = connect.cursor()\n",
    "    rows = cursor.execute(query).fetchall()\n",
    "    connect.commit()\n",
    "    connect.close()\n",
    "    return rows"
   ]
  },
  {
   "cell_type": "markdown",
   "metadata": {},
   "source": [
    "## Initial Setup\n",
    "\n",
    "The first step is to create the tables needed to store the data. These will be pre-defined to ensure consistency.\n",
    "\n",
    "### units\n",
    "This table holds the basic detail of a unit.\n",
    "\n",
    "unitid A unique integer identifier used to reference a unit.\n",
    "name The sring name of the unit.\n",
    "level The educational level of the unit.\n",
    "semester The semester in which the unit occurs. 0 indicated whole year.\n",
    "\n",
    "### students\n",
    "This table holds the basic detail of a student.\n",
    "\n",
    "studentid A unique integer identifier used to reference a student.\n",
    "name A string name of the student.\n",
    "\n",
    "### enrolled\n",
    "This table indicates which students are enrolled on a unit and in which year. Note that it used the id values of the student and unit to create the relatioship.\n",
    "\n",
    "studentid The id of a student.\n",
    "unitid The id of a unit.\n",
    "year An integer indicate the year the student was enrolled in the unit.\n",
    "\n",
    "### assessments\n",
    "An assessment if an assignement create by the lecturer for a unit, in a given year. The weightings for a unit in a given year are expected to sum to 100%\n",
    "\n",
    "assessmentid A unique integer identifier used to reference an assignment.\n",
    "unitd Which unit this assessment belongs to.\n",
    "year The integer year that this assignment relates to.\n",
    "name A string name for the assessment.\n",
    "mark The integer maximum mark available for the assignment.\n",
    "weighting The integer weighting out of 100 for this assignment.\n",
    "deadline The initial deadline set for this assignment.\n",
    "\n",
    "### assignments\n",
    "An assignment is the record of the assessment for an individual student.\n",
    "\n",
    "assignmentid A unique integer identifier used to reference an assignment instance.\n",
    "studentid The student this instance relates to.\n",
    "assessmentid The assessment this instance relates to.\n",
    "deadline The deadline for this student.\n",
    "submitted The date on which this assessment was submitted.\n",
    "mark The mark allocated to this piece of work.\n",
    "marked A flag indicating if this piece of work has been marked. 0:no, 1: yes."
   ]
  },
  {
   "cell_type": "code",
   "execution_count": 2,
   "metadata": {},
   "outputs": [],
   "source": [
    "# Set up the tables\n",
    "\n",
    "def setup_assessment_tables(dbfile):\n",
    "    # Get rid of any existing data\n",
    "    access_database(dbfile, \"DROP TABLE IF EXISTS units\")\n",
    "    access_database(dbfile, \"DROP TABLE IF EXISTS students\")\n",
    "    access_database(dbfile, \"DROP TABLE IF EXISTS enrolled\")\n",
    "    access_database(dbfile, \"DROP TABLE IF EXISTS assessments\")\n",
    "    access_database(dbfile, \"DROP TABLE IF EXISTS assignments\")\n",
    "    # Freshly setup tables\n",
    "    access_database(dbfile, \"CREATE TABLE units (unitid INT, name TEXT, level INT, semester INT)\")\n",
    "    access_database(dbfile, \"CREATE TABLE students (studentid INT, name TEXT)\")\n",
    "    access_database(dbfile, \"CREATE TABLE enrolled (studentid INT, unitid INT, year INT)\")\n",
    "    access_database(dbfile, \"CREATE TABLE assessments (assessmentid INT, unitid INT, year INT, name TEXT, mark INT, weighting INT, deadline DATE)\")\n",
    "    access_database(dbfile, \"CREATE TABLE assignments (assignmentid INTEGER PRIMARY KEY AUTOINCREMENT, studentid INT, assessmentid INT, deadline DATE, submitted DATE, mark INT, marked INT)\")\n",
    "    # Populate the tables with some initial data\n",
    "    access_database(dbfile, \"INSERT INTO units VALUES (100,'CM60100', 6, 1), (101,'CM60101', 6, 1), (102,'XX60200', 6, 1)\")\n",
    "    access_database(dbfile, \"INSERT INTO students VALUES (1001,'Rod'),(1002,'Jane'),(1003,'Freddy')\")\n",
    "    access_database(dbfile,\"INSERT INTO enrolled VALUES (1001,100,2020), (1001,101,2020), (1002,100,2019), (1002,101,2020), (1002,102,2019), (1003, 101, 2019), (1003, 102, 2019)\")\n",
    "    access_database(dbfile,\"INSERT INTO assessments VALUES (1,100,2020,'Exam',100,75,'2021-1-25 20:00'), (2,100,2020,'Coursework',100,25,'2020-12-25 20:00'), (3,101,2020,'Coursework',50,100,'2020-12-15 20:00'), (4,102,2019,'Coursework',50,100,'2019-12-15 20:00')\")"
   ]
  },
  {
   "cell_type": "code",
   "execution_count": 3,
   "metadata": {},
   "outputs": [],
   "source": [
    "# Task 1 (1 Mark): Provide a function that indicates the units a student is taking in a given year.\n",
    "# It should return a list of the units being taken in icreasing order of unitid. e.g. [101,104,105]\n",
    "\n",
    "def student_units(database, studentid, year):\n",
    "    row = access_database_with_result(database,\"SELECT UNITID FROM ENROLLED WHERE YEAR = {} AND STUDENTID = {} ORDER BY UNITID ASC\".format(year,studentid))\n",
    "    l = []\n",
    "    for u in row:\n",
    "        l.append(u[0])\n",
    "    return l\n"
   ]
  },
  {
   "cell_type": "code",
   "execution_count": 4,
   "metadata": {},
   "outputs": [],
   "source": [
    "# Task 2 (1 Mark): Provide a function that indicates the students that are enrolled on a unit.\n",
    "# It should return a list of tupples of studentid and name ordered by studentid. e.g. [(110,'Zipppy'),(111,'Bungle')]\n",
    "\n",
    "def unit_students(database, unitid, year):\n",
    "    row = access_database_with_result(database,f\"SELECT S.STUDENTID, S.NAME FROM ENROLLED AS E left JOIN STUDENTS AS S ON E.STUDENTID = S.STUDENTID WHERE E.UNITID = {unitid} AND E.YEAR = {year} ORDER BY S.STUDENTID\")\n",
    "    return row\n",
    "        "
   ]
  },
  {
   "cell_type": "code",
   "execution_count": 5,
   "metadata": {},
   "outputs": [],
   "source": [
    "# Task 3 (1 Marks): Provide a function that indicates how many students are taking each unit in a given year.\n",
    "# It should return a list of tupples of unitid, unitname and count ordered by sunitid. e.g. [(1010,'Machine Learning',50),(1020,'Dissertaton',37)]\n",
    "\n",
    "def unit_numbers(database, year):\n",
    "    row = access_database_with_result(database,\"SELECT units.unitid, units.name, count(enrolled.studentid) FROM units,enrolled WHERE enrolled.unitid=units.unitid AND enrolled.year = \"+str(year)+\" GROUP BY units.unitid ORDER BY units.unitid\")\n",
    "    return row\n"
   ]
  },
  {
   "cell_type": "code",
   "execution_count": 6,
   "metadata": {},
   "outputs": [],
   "source": [
    "# Task 4 (2 Marks): Provide a function that uses the enrollments and assessements tables to fully populate the assignments table.\n",
    "# All asssignemntsfor each student in a given year should be created. Only the assignements a student should be\n",
    "# undertaking should be created.\n",
    "\n",
    "def create_assignments(database, year):\n",
    "    access_database(database,f\"INSERT into assignments (studentid, assessmentid, deadline, marked) select e.studentid, a.assessmentid, a.deadline, 0 from assessments as a inner join enrolled as e on a.unitid = e.unitid where e.year = {year} and a.year = {year}\")\n"
   ]
  },
  {
   "cell_type": "code",
   "execution_count": 7,
   "metadata": {},
   "outputs": [],
   "source": [
    "# Task 5 (1 Mark): Update the mark of an assignment, given the studentid, assessmentid and mark.\n",
    "# It should update the marked flag and the mark.\n",
    "\n",
    "def mark_assignment(database, studentid, assessmentid, mark):\n",
    "    access_database(database,f\"UPDATE assignments set mark = {mark}, marked = 1 where studentid = {studentid} and assessmentid={assessmentid}\")\n",
    "\n"
   ]
  },
  {
   "cell_type": "code",
   "execution_count": 8,
   "metadata": {},
   "outputs": [],
   "source": [
    "# Task 6 (2 Marks): Compute the overall mark for all students taking a specified unit in a given year.\n",
    "\n",
    "def unit_marks(database, unitid, year):\n",
    "    rows = access_database_with_result(database,f\"SELECT e.studentid, sum(a.mark*(a.weighting/100)) from assessments as a inner join enrolled as e on a.unitid = e.unitid where a.unitid = {unitid} and a.year = {year} and e.year={year} and e.unitid = {unitid} group by e.studentid\")\n",
    "    return rows\n",
    "\n",
    "\n",
    "def unit_marks(database, unitid, year):\n",
    "    rows = access_database_with_result(database,f\"SELECT a.studentid, cast(CAST(a.mark AS double)/s.mark*S.WEIGHTING as decimal(2,1)) from assignments as a inner join assessments as s on a.assessmentid = s.assessmentid where s.year={year} and s.unitid = {unitid} group by a.studentid \")\n",
    "    return rows\n"
   ]
  },
  {
   "cell_type": "code",
   "execution_count": 9,
   "metadata": {},
   "outputs": [],
   "source": [
    "# Task 7 (2 Marks): Compute the overall marks for each unit taken by a given student across all years.\n",
    "\n",
    "def student_marks(database, studentid):\n",
    "    rows=access_database_with_result(database,f\"SELECT s.unitid, s.year, round(sum(CAST(a.mark AS double)/s.mark*S.WEIGHTING),1) from assignments as a inner join assessments as s on a.assessmentid = s.assessmentid where a.studentid={studentid} group by s.unitid\");\n",
    "    return rows\n"
   ]
  },
  {
   "cell_type": "code",
   "execution_count": 10,
   "metadata": {},
   "outputs": [
    {
     "name": "stdout",
     "output_type": "stream",
     "text": [
      "[100, 101]\n",
      "[(1001, 'Rod'), (1002, 'Jane')]\n",
      "[(100, 'CM60100', 1), (101, 'CM60101', 2)]\n",
      "[(1, 1001, 1, '2021-1-25 20:00', None, None, 0), (2, 1001, 2, '2020-12-25 20:00', None, None, 0), (3, 1001, 3, '2020-12-15 20:00', None, None, 0), (4, 1002, 3, '2020-12-15 20:00', None, None, 0)]\n",
      "[(1, 1001, 1, '2021-1-25 20:00', None, 57, 1), (2, 1001, 2, '2020-12-25 20:00', None, 11, 1), (3, 1001, 3, '2020-12-15 20:00', None, 45, 1), (4, 1002, 3, '2020-12-15 20:00', None, 40, 1)]\n",
      "[(1001, 90.0), (1002, 80.0)]\n",
      "[(100, 2020, 45.5), (101, 2020, 90.0)]\n"
     ]
    }
   ],
   "source": [
    "# This simple test exercises each of the function you need to complete.\n",
    "def run_test():\n",
    "    setup_assessment_tables(\"example.db\")\n",
    "\n",
    "    result = student_units(\"example.db\",1001,2020)\n",
    "    print(result)\n",
    "\n",
    "    result = unit_students(\"example.db\",101,2020)\n",
    "    print(result)\n",
    "\n",
    "    result = unit_numbers(\"example.db\",2020)\n",
    "    print(result)\n",
    "    #assignmentid, studentid, assessmentid, deadline, submitted, mark, marked.\n",
    "    create_assignments(\"example.db\",2020)\n",
    "    print(access_database_with_result(\"example.db\",\"SELECT * FROM assignments;\"))\n",
    "\n",
    "    mark_assignment(\"example.db\",1001, 1,57);\n",
    "    mark_assignment(\"example.db\",1001, 2,11);\n",
    "    mark_assignment(\"example.db\",1001, 3,45);\n",
    "    mark_assignment(\"example.db\",1002, 3,40);\n",
    "    print(access_database_with_result(\"example.db\",\"SELECT * FROM assignments;\"))\n",
    "\n",
    "    print(unit_marks(\"example.db\",101, 2020))\n",
    "\n",
    "    print(student_marks(\"example.db\",1001))\n",
    "    \n",
    "run_test()"
   ]
  },
  {
   "cell_type": "markdown",
   "metadata": {},
   "source": [
    "## This is the output that run_test() should generate for the example shown.\n",
    "\n",
    "[100, 101]\n",
    "\n",
    "[(1001, 'Rod'), (1002, 'Jane')]\n",
    "\n",
    "[(100, 'CM60100', 1), (101, 'CM60101', 2)]\n",
    "\n",
    "[(1, 1001, 1, '2021-1-25 20:00', None, None, 0), (2, 1001, 2, '2020-12-25 20:00', None, None, 0), (3, 1001, 3, '2020-12-15 20:00', None, None, 0), (4, 1002, 3, '2020-12-15 20:00', None, None, 0)]\n",
    "\n",
    "[(1, 1001, 1, '2021-1-25 20:00', None, 57, 1), (2, 1001, 2, '2020-12-25 20:00', None, 11, 1), (3, 1001, 3, '2020-12-15 20:00', None, 45, 1), (4, 1002, 3, '2020-12-15 20:00', None, 40, 1)]\n",
    "\n",
    "[(1001, 90.0), (1002, 80.0)]\n",
    "\n",
    "[(100, 2020, 45.5), (101, 2020, 90.0)]\n"
   ]
  }
 ],
 "metadata": {
  "kernelspec": {
   "display_name": "Python 3",
   "language": "python",
   "name": "python3"
  },
  "language_info": {
   "codemirror_mode": {
    "name": "ipython",
    "version": 3
   },
   "file_extension": ".py",
   "mimetype": "text/x-python",
   "name": "python",
   "nbconvert_exporter": "python",
   "pygments_lexer": "ipython3",
   "version": "3.8.8"
  }
 },
 "nbformat": 4,
 "nbformat_minor": 4
}
